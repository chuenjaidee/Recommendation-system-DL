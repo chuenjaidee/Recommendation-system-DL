{
 "cells": [
  {
   "cell_type": "code",
   "execution_count": 35,
   "id": "58f0d482-ed68-462a-9867-c531bc13b415",
   "metadata": {},
   "outputs": [],
   "source": [
    "import pandas as pd\n",
    "import numpy as np\n",
    "import matplotlib.pyplot as plt\n",
    "import seaborn as sns\n",
    "\n",
    "from sklearn.model_selection import train_test_split\n",
    "from tensorflow.keras import layers, Model\n",
    "from tensorflow.keras.layers import Input, Embedding, Flatten, Concatenate, Dense, Dropout\n",
    "from tensorflow.keras.optimizers import Adam\n",
    "\n",
    "import warnings\n",
    "warnings.filterwarnings(\"ignore\")"
   ]
  },
  {
   "cell_type": "markdown",
   "id": "97a51474-66fa-4c99-ac6b-08eb5fd4c48f",
   "metadata": {},
   "source": [
    "## EDA"
   ]
  },
  {
   "cell_type": "code",
   "execution_count": 2,
   "id": "541cc6ce-dbe4-4fd2-a39c-b4382537bae7",
   "metadata": {},
   "outputs": [],
   "source": [
    "movies = pd.read_csv(\"C:/Users/2023/Desktop/โฟลเดอร์ใหม่/20m movies/movie.csv\")\n",
    "ratings = pd.read_csv(\"C:/Users/2023/Desktop/โฟลเดอร์ใหม่/20m movies/rating.csv\")"
   ]
  },
  {
   "cell_type": "code",
   "execution_count": 3,
   "id": "c8ee4405-a446-4233-8bf0-056ac87cc97a",
   "metadata": {},
   "outputs": [
    {
     "data": {
      "text/html": [
       "<div>\n",
       "<style scoped>\n",
       "    .dataframe tbody tr th:only-of-type {\n",
       "        vertical-align: middle;\n",
       "    }\n",
       "\n",
       "    .dataframe tbody tr th {\n",
       "        vertical-align: top;\n",
       "    }\n",
       "\n",
       "    .dataframe thead th {\n",
       "        text-align: right;\n",
       "    }\n",
       "</style>\n",
       "<table border=\"1\" class=\"dataframe\">\n",
       "  <thead>\n",
       "    <tr style=\"text-align: right;\">\n",
       "      <th></th>\n",
       "      <th>movieId</th>\n",
       "      <th>title</th>\n",
       "      <th>genres</th>\n",
       "    </tr>\n",
       "  </thead>\n",
       "  <tbody>\n",
       "    <tr>\n",
       "      <th>0</th>\n",
       "      <td>1</td>\n",
       "      <td>Toy Story (1995)</td>\n",
       "      <td>Adventure|Animation|Children|Comedy|Fantasy</td>\n",
       "    </tr>\n",
       "    <tr>\n",
       "      <th>1</th>\n",
       "      <td>2</td>\n",
       "      <td>Jumanji (1995)</td>\n",
       "      <td>Adventure|Children|Fantasy</td>\n",
       "    </tr>\n",
       "    <tr>\n",
       "      <th>2</th>\n",
       "      <td>3</td>\n",
       "      <td>Grumpier Old Men (1995)</td>\n",
       "      <td>Comedy|Romance</td>\n",
       "    </tr>\n",
       "    <tr>\n",
       "      <th>3</th>\n",
       "      <td>4</td>\n",
       "      <td>Waiting to Exhale (1995)</td>\n",
       "      <td>Comedy|Drama|Romance</td>\n",
       "    </tr>\n",
       "    <tr>\n",
       "      <th>4</th>\n",
       "      <td>5</td>\n",
       "      <td>Father of the Bride Part II (1995)</td>\n",
       "      <td>Comedy</td>\n",
       "    </tr>\n",
       "  </tbody>\n",
       "</table>\n",
       "</div>"
      ],
      "text/plain": [
       "   movieId                               title  \\\n",
       "0        1                    Toy Story (1995)   \n",
       "1        2                      Jumanji (1995)   \n",
       "2        3             Grumpier Old Men (1995)   \n",
       "3        4            Waiting to Exhale (1995)   \n",
       "4        5  Father of the Bride Part II (1995)   \n",
       "\n",
       "                                        genres  \n",
       "0  Adventure|Animation|Children|Comedy|Fantasy  \n",
       "1                   Adventure|Children|Fantasy  \n",
       "2                               Comedy|Romance  \n",
       "3                         Comedy|Drama|Romance  \n",
       "4                                       Comedy  "
      ]
     },
     "execution_count": 3,
     "metadata": {},
     "output_type": "execute_result"
    }
   ],
   "source": [
    "movies.head()"
   ]
  },
  {
   "cell_type": "code",
   "execution_count": 4,
   "id": "a90878a9-42a2-4acf-800f-9ca9ab061b9e",
   "metadata": {},
   "outputs": [
    {
     "data": {
      "text/html": [
       "<div>\n",
       "<style scoped>\n",
       "    .dataframe tbody tr th:only-of-type {\n",
       "        vertical-align: middle;\n",
       "    }\n",
       "\n",
       "    .dataframe tbody tr th {\n",
       "        vertical-align: top;\n",
       "    }\n",
       "\n",
       "    .dataframe thead th {\n",
       "        text-align: right;\n",
       "    }\n",
       "</style>\n",
       "<table border=\"1\" class=\"dataframe\">\n",
       "  <thead>\n",
       "    <tr style=\"text-align: right;\">\n",
       "      <th></th>\n",
       "      <th>userId</th>\n",
       "      <th>movieId</th>\n",
       "      <th>rating</th>\n",
       "      <th>timestamp</th>\n",
       "    </tr>\n",
       "  </thead>\n",
       "  <tbody>\n",
       "    <tr>\n",
       "      <th>0</th>\n",
       "      <td>1</td>\n",
       "      <td>2</td>\n",
       "      <td>3.5</td>\n",
       "      <td>2005-04-02 23:53:47</td>\n",
       "    </tr>\n",
       "    <tr>\n",
       "      <th>1</th>\n",
       "      <td>1</td>\n",
       "      <td>29</td>\n",
       "      <td>3.5</td>\n",
       "      <td>2005-04-02 23:31:16</td>\n",
       "    </tr>\n",
       "    <tr>\n",
       "      <th>2</th>\n",
       "      <td>1</td>\n",
       "      <td>32</td>\n",
       "      <td>3.5</td>\n",
       "      <td>2005-04-02 23:33:39</td>\n",
       "    </tr>\n",
       "    <tr>\n",
       "      <th>3</th>\n",
       "      <td>1</td>\n",
       "      <td>47</td>\n",
       "      <td>3.5</td>\n",
       "      <td>2005-04-02 23:32:07</td>\n",
       "    </tr>\n",
       "    <tr>\n",
       "      <th>4</th>\n",
       "      <td>1</td>\n",
       "      <td>50</td>\n",
       "      <td>3.5</td>\n",
       "      <td>2005-04-02 23:29:40</td>\n",
       "    </tr>\n",
       "  </tbody>\n",
       "</table>\n",
       "</div>"
      ],
      "text/plain": [
       "   userId  movieId  rating            timestamp\n",
       "0       1        2     3.5  2005-04-02 23:53:47\n",
       "1       1       29     3.5  2005-04-02 23:31:16\n",
       "2       1       32     3.5  2005-04-02 23:33:39\n",
       "3       1       47     3.5  2005-04-02 23:32:07\n",
       "4       1       50     3.5  2005-04-02 23:29:40"
      ]
     },
     "execution_count": 4,
     "metadata": {},
     "output_type": "execute_result"
    }
   ],
   "source": [
    "ratings.head()"
   ]
  },
  {
   "cell_type": "code",
   "execution_count": 5,
   "id": "1170def9-f83d-4595-8f1f-03ad92b0a5b8",
   "metadata": {},
   "outputs": [
    {
     "name": "stdout",
     "output_type": "stream",
     "text": [
      "<class 'pandas.core.frame.DataFrame'>\n",
      "RangeIndex: 27278 entries, 0 to 27277\n",
      "Data columns (total 3 columns):\n",
      " #   Column   Non-Null Count  Dtype \n",
      "---  ------   --------------  ----- \n",
      " 0   movieId  27278 non-null  int64 \n",
      " 1   title    27278 non-null  object\n",
      " 2   genres   27278 non-null  object\n",
      "dtypes: int64(1), object(2)\n",
      "memory usage: 639.5+ KB\n"
     ]
    }
   ],
   "source": [
    "movies.info()"
   ]
  },
  {
   "cell_type": "code",
   "execution_count": 6,
   "id": "e547ce4b-2d4f-48bb-b847-1c3c24379a38",
   "metadata": {},
   "outputs": [
    {
     "name": "stdout",
     "output_type": "stream",
     "text": [
      "<class 'pandas.core.frame.DataFrame'>\n",
      "RangeIndex: 20000263 entries, 0 to 20000262\n",
      "Data columns (total 4 columns):\n",
      " #   Column     Dtype  \n",
      "---  ------     -----  \n",
      " 0   userId     int64  \n",
      " 1   movieId    int64  \n",
      " 2   rating     float64\n",
      " 3   timestamp  object \n",
      "dtypes: float64(1), int64(2), object(1)\n",
      "memory usage: 610.4+ MB\n"
     ]
    }
   ],
   "source": [
    "ratings.info()"
   ]
  },
  {
   "cell_type": "code",
   "execution_count": 7,
   "id": "522ca3db-fc4f-48f8-b9eb-3e793b9f5ef4",
   "metadata": {},
   "outputs": [
    {
     "name": "stdout",
     "output_type": "stream",
     "text": [
      "movieId    0\n",
      "title      0\n",
      "genres     0\n",
      "dtype: int64\n"
     ]
    }
   ],
   "source": [
    "print(movies.isnull().sum())"
   ]
  },
  {
   "cell_type": "code",
   "execution_count": 8,
   "id": "4b726aeb-42b3-45b1-a38a-3699b2833e15",
   "metadata": {},
   "outputs": [
    {
     "name": "stdout",
     "output_type": "stream",
     "text": [
      "userId       0\n",
      "movieId      0\n",
      "rating       0\n",
      "timestamp    0\n",
      "dtype: int64\n"
     ]
    }
   ],
   "source": [
    "print(ratings.isnull().sum())"
   ]
  },
  {
   "cell_type": "code",
   "execution_count": 9,
   "id": "c9d67d5a-e956-422e-8bb5-5021ac6d0e03",
   "metadata": {},
   "outputs": [
    {
     "name": "stdout",
     "output_type": "stream",
     "text": [
      "genres_list\n",
      "Drama                 13344\n",
      "Comedy                 8374\n",
      "Thriller               4178\n",
      "Romance                4127\n",
      "Action                 3520\n",
      "Crime                  2939\n",
      "Horror                 2611\n",
      "Documentary            2471\n",
      "Adventure              2329\n",
      "Sci-Fi                 1743\n",
      "Mystery                1514\n",
      "Fantasy                1412\n",
      "War                    1194\n",
      "Children               1139\n",
      "Musical                1036\n",
      "Animation              1027\n",
      "Western                 676\n",
      "Film-Noir               330\n",
      "(no genres listed)      246\n",
      "IMAX                    196\n",
      "Name: count, dtype: int64\n"
     ]
    }
   ],
   "source": [
    "#movies\n",
    "movies['genres_list'] = movies['genres'].apply(lambda x: x.split('|'))\n",
    "all_genres = movies['genres_list'].explode()\n",
    "\n",
    "print(all_genres.value_counts())"
   ]
  },
  {
   "cell_type": "code",
   "execution_count": 10,
   "id": "4f4eae9d-e6a5-4d56-a147-0a54b3ee6f58",
   "metadata": {},
   "outputs": [
    {
     "data": {
      "image/png": "[encoded data removed]",
      "text/plain": [
       "<Figure size 1000x600 with 1 Axes>"
      ]
     },
     "metadata": {},
     "output_type": "display_data"
    }
   ],
   "source": [
    "plt.figure(figsize=(10,6))\n",
    "sns.countplot(y=all_genres, order=all_genres.value_counts().index)\n",
    "plt.title(\"Distribution of Genres\")\n",
    "plt.xlabel(\"Count\")\n",
    "plt.ylabel(\"Genres\")\n",
    "plt.show()"
   ]
  },
  {
   "cell_type": "code",
   "execution_count": 11,
   "id": "76a6f49b-6f60-4845-959f-e3c7b1c845e7",
   "metadata": {},
   "outputs": [
    {
     "data": {
      "image/png": "[encoded data removed]",
      "text/plain": [
       "<Figure size 800x500 with 1 Axes>"
      ]
     },
     "metadata": {},
     "output_type": "display_data"
    }
   ],
   "source": [
    "#rating\n",
    "plt.figure(figsize=(8,5))\n",
    "sns.histplot(ratings['rating'], bins=10, kde=True)\n",
    "plt.title(\"Distribution of Ratings\")\n",
    "plt.xlabel(\"Rating\")\n",
    "plt.ylabel(\"Count\")\n",
    "plt.show()"
   ]
  },
  {
   "cell_type": "code",
   "execution_count": null,
   "id": "80be36f8-6bd5-45c4-b9dc-e85671e7e134",
   "metadata": {},
   "outputs": [],
   "source": []
  },
  {
   "cell_type": "code",
   "execution_count": null,
   "id": "ab4a15c8-07a6-4eab-adbd-2bdebda6b216",
   "metadata": {},
   "outputs": [],
   "source": []
  },
  {
   "cell_type": "code",
   "execution_count": 12,
   "id": "34829c93-61be-4261-8e25-f679d3c7f28d",
   "metadata": {},
   "outputs": [],
   "source": [
    "# นับจำนวนให้คะแนน\n",
    "rating_count_per_movie = ratings.groupby('movieId')['rating'].count().reset_index()\n",
    "rating_count_per_movie.columns = ['movieId', 'count']\n",
    "\n",
    "# คำนวณผลรวมของคะแนน\n",
    "rating_sum_per_movie = ratings.groupby('movieId')['rating'].sum().reset_index()\n",
    "rating_sum_per_movie.columns = ['movieId', 'total_rating']\n",
    "\n",
    "# รวมข้อมูลจำนวนให้คะแนนและผลรวมของคะแนน\n",
    "movie_rating_counts = pd.merge(movies, rating_count_per_movie, on='movieId')\n",
    "movie_rating_counts = pd.merge(movie_rating_counts, rating_sum_per_movie, on='movieId')"
   ]
  },
  {
   "cell_type": "code",
   "execution_count": 13,
   "id": "b25a6b7b-c93c-427d-9736-7589bc780f1e",
   "metadata": {},
   "outputs": [
    {
     "name": "stdout",
     "output_type": "stream",
     "text": [
      "\n",
      "Top 10 Most Rated Movies:\n"
     ]
    },
    {
     "data": {
      "text/html": [
       "<div>\n",
       "<style scoped>\n",
       "    .dataframe tbody tr th:only-of-type {\n",
       "        vertical-align: middle;\n",
       "    }\n",
       "\n",
       "    .dataframe tbody tr th {\n",
       "        vertical-align: top;\n",
       "    }\n",
       "\n",
       "    .dataframe thead th {\n",
       "        text-align: right;\n",
       "    }\n",
       "</style>\n",
       "<table border=\"1\" class=\"dataframe\">\n",
       "  <thead>\n",
       "    <tr style=\"text-align: right;\">\n",
       "      <th></th>\n",
       "      <th>movieId</th>\n",
       "      <th>title</th>\n",
       "      <th>count</th>\n",
       "      <th>total_rating</th>\n",
       "    </tr>\n",
       "  </thead>\n",
       "  <tbody>\n",
       "    <tr>\n",
       "      <th>315</th>\n",
       "      <td>318</td>\n",
       "      <td>Shawshank Redemption, The (1994)</td>\n",
       "      <td>63366</td>\n",
       "      <td>281788.0</td>\n",
       "    </tr>\n",
       "    <tr>\n",
       "      <th>293</th>\n",
       "      <td>296</td>\n",
       "      <td>Pulp Fiction (1994)</td>\n",
       "      <td>67310</td>\n",
       "      <td>280967.5</td>\n",
       "    </tr>\n",
       "    <tr>\n",
       "      <th>352</th>\n",
       "      <td>356</td>\n",
       "      <td>Forrest Gump (1994)</td>\n",
       "      <td>66172</td>\n",
       "      <td>266607.0</td>\n",
       "    </tr>\n",
       "    <tr>\n",
       "      <th>587</th>\n",
       "      <td>593</td>\n",
       "      <td>Silence of the Lambs, The (1991)</td>\n",
       "      <td>63299</td>\n",
       "      <td>264403.5</td>\n",
       "    </tr>\n",
       "    <tr>\n",
       "      <th>257</th>\n",
       "      <td>260</td>\n",
       "      <td>Star Wars: Episode IV - A New Hope (1977)</td>\n",
       "      <td>54502</td>\n",
       "      <td>228400.0</td>\n",
       "    </tr>\n",
       "    <tr>\n",
       "      <th>476</th>\n",
       "      <td>480</td>\n",
       "      <td>Jurassic Park (1993)</td>\n",
       "      <td>59715</td>\n",
       "      <td>218840.0</td>\n",
       "    </tr>\n",
       "    <tr>\n",
       "      <th>108</th>\n",
       "      <td>110</td>\n",
       "      <td>Braveheart (1995)</td>\n",
       "      <td>53769</td>\n",
       "      <td>217363.0</td>\n",
       "    </tr>\n",
       "    <tr>\n",
       "      <th>523</th>\n",
       "      <td>527</td>\n",
       "      <td>Schindler's List (1993)</td>\n",
       "      <td>50054</td>\n",
       "      <td>215741.5</td>\n",
       "    </tr>\n",
       "    <tr>\n",
       "      <th>2486</th>\n",
       "      <td>2571</td>\n",
       "      <td>Matrix, The (1999)</td>\n",
       "      <td>51334</td>\n",
       "      <td>214945.0</td>\n",
       "    </tr>\n",
       "    <tr>\n",
       "      <th>583</th>\n",
       "      <td>589</td>\n",
       "      <td>Terminator 2: Judgment Day (1991)</td>\n",
       "      <td>52244</td>\n",
       "      <td>205421.0</td>\n",
       "    </tr>\n",
       "  </tbody>\n",
       "</table>\n",
       "</div>"
      ],
      "text/plain": [
       "      movieId                                      title  count  total_rating\n",
       "315       318           Shawshank Redemption, The (1994)  63366      281788.0\n",
       "293       296                        Pulp Fiction (1994)  67310      280967.5\n",
       "352       356                        Forrest Gump (1994)  66172      266607.0\n",
       "587       593           Silence of the Lambs, The (1991)  63299      264403.5\n",
       "257       260  Star Wars: Episode IV - A New Hope (1977)  54502      228400.0\n",
       "476       480                       Jurassic Park (1993)  59715      218840.0\n",
       "108       110                          Braveheart (1995)  53769      217363.0\n",
       "523       527                    Schindler's List (1993)  50054      215741.5\n",
       "2486     2571                         Matrix, The (1999)  51334      214945.0\n",
       "583       589          Terminator 2: Judgment Day (1991)  52244      205421.0"
      ]
     },
     "execution_count": 13,
     "metadata": {},
     "output_type": "execute_result"
    }
   ],
   "source": [
    "top_rated_movies = movie_rating_counts.nlargest(10, 'total_rating')\n",
    "\n",
    "print(\"\\nTop 10 Most Rated Movies:\")\n",
    "top_rated_movies[['movieId', 'title', 'count', 'total_rating']]"
   ]
  },
  {
   "cell_type": "code",
   "execution_count": 14,
   "id": "63b3559c-ca32-488c-831a-a065434fe061",
   "metadata": {},
   "outputs": [
    {
     "data": {
      "image/png": "[encoded data removed]",
      "text/plain": [
       "<Figure size 1000x600 with 1 Axes>"
      ]
     },
     "metadata": {},
     "output_type": "display_data"
    }
   ],
   "source": [
    "plt.figure(figsize=(10, 6))\n",
    "sns.barplot(x='total_rating', y='title', data=top_rated_movies)\n",
    "plt.title(\"Top 10 Most Rated Movies\")\n",
    "plt.xlabel(\"Number of Ratings\")\n",
    "plt.ylabel(\"Movie Titles\")\n",
    "plt.show()"
   ]
  },
  {
   "cell_type": "code",
   "execution_count": null,
   "id": "7c7c987b-7c8c-44a4-9058-c586dd712f98",
   "metadata": {},
   "outputs": [],
   "source": []
  },
  {
   "cell_type": "code",
   "execution_count": null,
   "id": "e3a1cf34-1182-4787-a245-a773bd24b485",
   "metadata": {},
   "outputs": [],
   "source": []
  },
  {
   "cell_type": "markdown",
   "id": "fb2cd9ea-4b46-4be7-bec6-b6784c180a3d",
   "metadata": {},
   "source": [
    "## Prepare dataset"
   ]
  },
  {
   "cell_type": "code",
   "execution_count": 15,
   "id": "28031e56-fc93-4ec6-88ab-fe7ee162473d",
   "metadata": {},
   "outputs": [],
   "source": [
    "user_ids = ratings['userId'].unique().tolist() \n",
    "movie_ids = ratings['movieId'].unique().tolist()"
   ]
  },
  {
   "cell_type": "code",
   "execution_count": 16,
   "id": "b1f3f426-144f-4eb6-9437-103a4efcba97",
   "metadata": {},
   "outputs": [],
   "source": [
    "# สร้าง mapping ระหว่าง user และ movie #### เพิ่ม index ให้ userId และ movieId  ไว้เข้า model\n",
    "user_to_index = {user_id: idx for idx, user_id in enumerate(user_ids)}\n",
    "movie_to_index = {movie_id: idx for idx, movie_id in enumerate(movie_ids)}"
   ]
  },
  {
   "cell_type": "code",
   "execution_count": 17,
   "id": "d79d1c65-d908-4251-8137-1b8c4b8d6123",
   "metadata": {},
   "outputs": [],
   "source": [
    "# แปลง user และ movie ids เป็น indices ##### อข้อมูลสุดท้ายจะ = ข้อมูลผู้ใช้แต่ละคน ว่าเคยให้คะแนนเรื่องอะไรบ้าง\n",
    "ratings['userId'] = ratings['userId'].map(user_to_index)\n",
    "ratings['movieId'] = ratings['movieId'].map(movie_to_index)"
   ]
  },
  {
   "cell_type": "code",
   "execution_count": 18,
   "id": "0b5e6b49-b98f-497c-8c69-479ad4606fb3",
   "metadata": {},
   "outputs": [
    {
     "data": {
      "text/html": [
       "<div>\n",
       "<style scoped>\n",
       "    .dataframe tbody tr th:only-of-type {\n",
       "        vertical-align: middle;\n",
       "    }\n",
       "\n",
       "    .dataframe tbody tr th {\n",
       "        vertical-align: top;\n",
       "    }\n",
       "\n",
       "    .dataframe thead th {\n",
       "        text-align: right;\n",
       "    }\n",
       "</style>\n",
       "<table border=\"1\" class=\"dataframe\">\n",
       "  <thead>\n",
       "    <tr style=\"text-align: right;\">\n",
       "      <th></th>\n",
       "      <th>userId</th>\n",
       "      <th>movieId</th>\n",
       "      <th>rating</th>\n",
       "      <th>timestamp</th>\n",
       "    </tr>\n",
       "  </thead>\n",
       "  <tbody>\n",
       "    <tr>\n",
       "      <th>0</th>\n",
       "      <td>0</td>\n",
       "      <td>0</td>\n",
       "      <td>3.5</td>\n",
       "      <td>2005-04-02 23:53:47</td>\n",
       "    </tr>\n",
       "    <tr>\n",
       "      <th>1</th>\n",
       "      <td>0</td>\n",
       "      <td>1</td>\n",
       "      <td>3.5</td>\n",
       "      <td>2005-04-02 23:31:16</td>\n",
       "    </tr>\n",
       "    <tr>\n",
       "      <th>2</th>\n",
       "      <td>0</td>\n",
       "      <td>2</td>\n",
       "      <td>3.5</td>\n",
       "      <td>2005-04-02 23:33:39</td>\n",
       "    </tr>\n",
       "    <tr>\n",
       "      <th>3</th>\n",
       "      <td>0</td>\n",
       "      <td>3</td>\n",
       "      <td>3.5</td>\n",
       "      <td>2005-04-02 23:32:07</td>\n",
       "    </tr>\n",
       "    <tr>\n",
       "      <th>4</th>\n",
       "      <td>0</td>\n",
       "      <td>4</td>\n",
       "      <td>3.5</td>\n",
       "      <td>2005-04-02 23:29:40</td>\n",
       "    </tr>\n",
       "    <tr>\n",
       "      <th>...</th>\n",
       "      <td>...</td>\n",
       "      <td>...</td>\n",
       "      <td>...</td>\n",
       "      <td>...</td>\n",
       "    </tr>\n",
       "    <tr>\n",
       "      <th>20000258</th>\n",
       "      <td>138492</td>\n",
       "      <td>1814</td>\n",
       "      <td>4.5</td>\n",
       "      <td>2009-11-13 15:42:00</td>\n",
       "    </tr>\n",
       "    <tr>\n",
       "      <th>20000259</th>\n",
       "      <td>138492</td>\n",
       "      <td>1037</td>\n",
       "      <td>4.5</td>\n",
       "      <td>2009-12-03 18:31:48</td>\n",
       "    </tr>\n",
       "    <tr>\n",
       "      <th>20000260</th>\n",
       "      <td>138492</td>\n",
       "      <td>3950</td>\n",
       "      <td>3.0</td>\n",
       "      <td>2009-12-07 18:10:57</td>\n",
       "    </tr>\n",
       "    <tr>\n",
       "      <th>20000261</th>\n",
       "      <td>138492</td>\n",
       "      <td>1818</td>\n",
       "      <td>5.0</td>\n",
       "      <td>2009-11-13 15:42:24</td>\n",
       "    </tr>\n",
       "    <tr>\n",
       "      <th>20000262</th>\n",
       "      <td>138492</td>\n",
       "      <td>4010</td>\n",
       "      <td>2.5</td>\n",
       "      <td>2009-10-17 20:25:36</td>\n",
       "    </tr>\n",
       "  </tbody>\n",
       "</table>\n",
       "<p>20000263 rows × 4 columns</p>\n",
       "</div>"
      ],
      "text/plain": [
       "          userId  movieId  rating            timestamp\n",
       "0              0        0     3.5  2005-04-02 23:53:47\n",
       "1              0        1     3.5  2005-04-02 23:31:16\n",
       "2              0        2     3.5  2005-04-02 23:33:39\n",
       "3              0        3     3.5  2005-04-02 23:32:07\n",
       "4              0        4     3.5  2005-04-02 23:29:40\n",
       "...          ...      ...     ...                  ...\n",
       "20000258  138492     1814     4.5  2009-11-13 15:42:00\n",
       "20000259  138492     1037     4.5  2009-12-03 18:31:48\n",
       "20000260  138492     3950     3.0  2009-12-07 18:10:57\n",
       "20000261  138492     1818     5.0  2009-11-13 15:42:24\n",
       "20000262  138492     4010     2.5  2009-10-17 20:25:36\n",
       "\n",
       "[20000263 rows x 4 columns]"
      ]
     },
     "execution_count": 18,
     "metadata": {},
     "output_type": "execute_result"
    }
   ],
   "source": [
    "ratings"
   ]
  },
  {
   "cell_type": "code",
   "execution_count": 19,
   "id": "868154e0-985a-43de-91aa-c7eb32c1f47a",
   "metadata": {},
   "outputs": [
    {
     "data": {
      "text/html": [
       "<div>\n",
       "<style scoped>\n",
       "    .dataframe tbody tr th:only-of-type {\n",
       "        vertical-align: middle;\n",
       "    }\n",
       "\n",
       "    .dataframe tbody tr th {\n",
       "        vertical-align: top;\n",
       "    }\n",
       "\n",
       "    .dataframe thead th {\n",
       "        text-align: right;\n",
       "    }\n",
       "</style>\n",
       "<table border=\"1\" class=\"dataframe\">\n",
       "  <thead>\n",
       "    <tr style=\"text-align: right;\">\n",
       "      <th></th>\n",
       "      <th>userId</th>\n",
       "      <th>movieId</th>\n",
       "      <th>rating</th>\n",
       "      <th>timestamp</th>\n",
       "    </tr>\n",
       "  </thead>\n",
       "  <tbody>\n",
       "    <tr>\n",
       "      <th>0</th>\n",
       "      <td>0</td>\n",
       "      <td>0</td>\n",
       "      <td>3.5</td>\n",
       "      <td>2005-04-02 23:53:47</td>\n",
       "    </tr>\n",
       "    <tr>\n",
       "      <th>1</th>\n",
       "      <td>0</td>\n",
       "      <td>1</td>\n",
       "      <td>3.5</td>\n",
       "      <td>2005-04-02 23:31:16</td>\n",
       "    </tr>\n",
       "    <tr>\n",
       "      <th>2</th>\n",
       "      <td>0</td>\n",
       "      <td>2</td>\n",
       "      <td>3.5</td>\n",
       "      <td>2005-04-02 23:33:39</td>\n",
       "    </tr>\n",
       "    <tr>\n",
       "      <th>3</th>\n",
       "      <td>0</td>\n",
       "      <td>3</td>\n",
       "      <td>3.5</td>\n",
       "      <td>2005-04-02 23:32:07</td>\n",
       "    </tr>\n",
       "    <tr>\n",
       "      <th>4</th>\n",
       "      <td>0</td>\n",
       "      <td>4</td>\n",
       "      <td>3.5</td>\n",
       "      <td>2005-04-02 23:29:40</td>\n",
       "    </tr>\n",
       "    <tr>\n",
       "      <th>...</th>\n",
       "      <td>...</td>\n",
       "      <td>...</td>\n",
       "      <td>...</td>\n",
       "      <td>...</td>\n",
       "    </tr>\n",
       "    <tr>\n",
       "      <th>170</th>\n",
       "      <td>0</td>\n",
       "      <td>170</td>\n",
       "      <td>5.0</td>\n",
       "      <td>2004-09-10 03:13:47</td>\n",
       "    </tr>\n",
       "    <tr>\n",
       "      <th>171</th>\n",
       "      <td>0</td>\n",
       "      <td>171</td>\n",
       "      <td>4.5</td>\n",
       "      <td>2005-04-02 23:44:53</td>\n",
       "    </tr>\n",
       "    <tr>\n",
       "      <th>172</th>\n",
       "      <td>0</td>\n",
       "      <td>172</td>\n",
       "      <td>3.5</td>\n",
       "      <td>2005-04-02 23:33:15</td>\n",
       "    </tr>\n",
       "    <tr>\n",
       "      <th>173</th>\n",
       "      <td>0</td>\n",
       "      <td>173</td>\n",
       "      <td>4.0</td>\n",
       "      <td>2005-04-02 23:47:09</td>\n",
       "    </tr>\n",
       "    <tr>\n",
       "      <th>174</th>\n",
       "      <td>0</td>\n",
       "      <td>174</td>\n",
       "      <td>4.0</td>\n",
       "      <td>2005-04-02 23:49:08</td>\n",
       "    </tr>\n",
       "  </tbody>\n",
       "</table>\n",
       "<p>175 rows × 4 columns</p>\n",
       "</div>"
      ],
      "text/plain": [
       "     userId  movieId  rating            timestamp\n",
       "0         0        0     3.5  2005-04-02 23:53:47\n",
       "1         0        1     3.5  2005-04-02 23:31:16\n",
       "2         0        2     3.5  2005-04-02 23:33:39\n",
       "3         0        3     3.5  2005-04-02 23:32:07\n",
       "4         0        4     3.5  2005-04-02 23:29:40\n",
       "..      ...      ...     ...                  ...\n",
       "170       0      170     5.0  2004-09-10 03:13:47\n",
       "171       0      171     4.5  2005-04-02 23:44:53\n",
       "172       0      172     3.5  2005-04-02 23:33:15\n",
       "173       0      173     4.0  2005-04-02 23:47:09\n",
       "174       0      174     4.0  2005-04-02 23:49:08\n",
       "\n",
       "[175 rows x 4 columns]"
      ]
     },
     "execution_count": 19,
     "metadata": {},
     "output_type": "execute_result"
    }
   ],
   "source": [
    "ratings[ratings['userId'] == 0]"
   ]
  },
  {
   "cell_type": "code",
   "execution_count": null,
   "id": "f774e455-5a91-4161-865e-e65cf28555d2",
   "metadata": {},
   "outputs": [],
   "source": []
  },
  {
   "cell_type": "code",
   "execution_count": 20,
   "id": "3111803f-a24a-4148-a100-c63c17608261",
   "metadata": {},
   "outputs": [],
   "source": [
    "train_data, temp_data = train_test_split(ratings, test_size=0.2, random_state=42)\n",
    "\n",
    "validation_data, test_data = train_test_split(temp_data, test_size=0.5, random_state=42)\n",
    "\n"
   ]
  },
  {
   "cell_type": "code",
   "execution_count": 21,
   "id": "b49ea4f4-59b8-4757-b40f-ab305def66ba",
   "metadata": {},
   "outputs": [],
   "source": [
    "# สร้างโมเดล Matrix Factorization โดยใช้ Embedding Layers\n",
    "n_users = len(user_ids)\n",
    "n_movies = len(movie_ids)\n",
    "n_factors = 50  "
   ]
  },
  {
   "cell_type": "code",
   "execution_count": 22,
   "id": "177c32af-be3f-4c5a-b8d7-a3d13908cb9e",
   "metadata": {},
   "outputs": [
    {
     "data": {
      "text/plain": [
       "138493"
      ]
     },
     "execution_count": 22,
     "metadata": {},
     "output_type": "execute_result"
    }
   ],
   "source": [
    "n_users"
   ]
  },
  {
   "cell_type": "code",
   "execution_count": 23,
   "id": "32ab7585-952a-413e-92e5-79dc7b16f263",
   "metadata": {},
   "outputs": [
    {
     "data": {
      "text/plain": [
       "26744"
      ]
     },
     "execution_count": 23,
     "metadata": {},
     "output_type": "execute_result"
    }
   ],
   "source": [
    "n_movies"
   ]
  },
  {
   "cell_type": "code",
   "execution_count": 24,
   "id": "b593b5e7-ef89-4a6e-ab50-7f552856c5c1",
   "metadata": {},
   "outputs": [],
   "source": [
    "# User Embedding Layer\n",
    "user_input = layers.Input(shape=(1,), name='user_input')\n",
    "user_embedding = layers.Embedding(input_dim=n_users, output_dim=n_factors, name='user_embedding')(user_input)   \n",
    "\n",
    "user_vec = layers.Flatten()(user_embedding)                                     \n",
    "    "
   ]
  },
  {
   "cell_type": "code",
   "execution_count": null,
   "id": "81c8eb2d-41c3-475a-ae7a-427554ddbfdd",
   "metadata": {},
   "outputs": [],
   "source": []
  },
  {
   "cell_type": "code",
   "execution_count": 25,
   "id": "57bafee0-547c-4edc-8953-a7a6453f988a",
   "metadata": {},
   "outputs": [],
   "source": [
    "# Movie Embedding Layer เ\n",
    "movie_input = layers.Input(shape=(1,), name='movie_input')\n",
    "movie_embedding = layers.Embedding(input_dim=n_movies, output_dim=n_factors, name='movie_embedding')(movie_input)\n",
    "movie_vec = layers.Flatten()(movie_embedding)"
   ]
  },
  {
   "cell_type": "code",
   "execution_count": 27,
   "id": "ace7a786-5f9c-4841-bf5b-6e5f88356aa6",
   "metadata": {},
   "outputs": [],
   "source": [
    "# คำนวณ dot product ของ latent factors (MF)\n",
    "dot_product = layers.Dot(axes=1)([user_vec, movie_vec])  "
   ]
  },
  {
   "cell_type": "markdown",
   "id": "57fc21c3-64c2-4cfb-afab-b67be3918aa2",
   "metadata": {},
   "source": [
    "## model"
   ]
  },
  {
   "cell_type": "code",
   "execution_count": 30,
   "id": "cf1731b2-ec3d-493a-8f15-50811c49dd8f",
   "metadata": {},
   "outputs": [],
   "source": [
    "# สร้างโมเดล \n",
    "x = layers.Dense(128, activation='relu')(dot_product) \n",
    "x = layers.Dropout(0.3)(x) \n",
    "x = layers.Dense(64, activation='relu')(x)\n",
    "x = layers.Dropout(0.3)(x)\n",
    "\n",
    "output = layers.Dense(1)(x) #\n",
    "\n",
    "model = Model([user_input, movie_input], output)\n",
    "\n",
    "model.compile(optimizer=Adam(learning_rate=0.001), loss='mean_squared_error')"
   ]
  },
  {
   "cell_type": "code",
   "execution_count": null,
   "id": "cbee4580-9d10-4ecd-90a7-07d52cf22b63",
   "metadata": {},
   "outputs": [],
   "source": []
  },
  {
   "cell_type": "code",
   "execution_count": 36,
   "id": "080162f0-c7ca-4a1d-8fcc-448c77cf79b9",
   "metadata": {},
   "outputs": [
    {
     "name": "stdout",
     "output_type": "stream",
     "text": [
      "Epoch 1/10\n",
      "\u001b[1m500007/500007\u001b[0m \u001b[32m━━━━━━━━━━━━━━━━━━━━\u001b[0m\u001b[37m\u001b[0m \u001b[1m45708s\u001b[0m 91ms/step - loss: 1.0376 - val_loss: 0.9486\n",
      "Epoch 2/10\n",
      "\u001b[1m500007/500007\u001b[0m \u001b[32m━━━━━━━━━━━━━━━━━━━━\u001b[0m\u001b[37m\u001b[0m \u001b[1m45752s\u001b[0m 91ms/step - loss: 0.8892 - val_loss: 0.8810\n",
      "Epoch 3/10\n",
      "\u001b[1m500007/500007\u001b[0m \u001b[32m━━━━━━━━━━━━━━━━━━━━\u001b[0m\u001b[37m\u001b[0m \u001b[1m45976s\u001b[0m 92ms/step - loss: 0.8063 - val_loss: 0.8350\n",
      "Epoch 4/10\n",
      "\u001b[1m500007/500007\u001b[0m \u001b[32m━━━━━━━━━━━━━━━━━━━━\u001b[0m\u001b[37m\u001b[0m \u001b[1m46093s\u001b[0m 92ms/step - loss: 0.7429 - val_loss: 0.8033\n",
      "Epoch 5/10\n",
      "\u001b[1m500007/500007\u001b[0m \u001b[32m━━━━━━━━━━━━━━━━━━━━\u001b[0m\u001b[37m\u001b[0m \u001b[1m46316s\u001b[0m 93ms/step - loss: 0.6902 - val_loss: 0.8121\n",
      "Epoch 6/10\n",
      "\u001b[1m500007/500007\u001b[0m \u001b[32m━━━━━━━━━━━━━━━━━━━━\u001b[0m\u001b[37m\u001b[0m \u001b[1m46258s\u001b[0m 93ms/step - loss: 0.6495 - val_loss: 0.8352\n",
      "Epoch 7/10\n",
      "\u001b[1m500007/500007\u001b[0m \u001b[32m━━━━━━━━━━━━━━━━━━━━\u001b[0m\u001b[37m\u001b[0m \u001b[1m46021s\u001b[0m 92ms/step - loss: 0.6191 - val_loss: 0.8014\n",
      "Epoch 8/10\n",
      "\u001b[1m500007/500007\u001b[0m \u001b[32m━━━━━━━━━━━━━━━━━━━━\u001b[0m\u001b[37m\u001b[0m \u001b[1m46221s\u001b[0m 92ms/step - loss: 0.5951 - val_loss: 0.8247\n",
      "Epoch 9/10\n",
      "\u001b[1m500007/500007\u001b[0m \u001b[32m━━━━━━━━━━━━━━━━━━━━\u001b[0m\u001b[37m\u001b[0m \u001b[1m46181s\u001b[0m 92ms/step - loss: 0.5768 - val_loss: 0.8286\n",
      "Epoch 10/10\n",
      "\u001b[1m500007/500007\u001b[0m \u001b[32m━━━━━━━━━━━━━━━━━━━━\u001b[0m\u001b[37m\u001b[0m \u001b[1m46395s\u001b[0m 93ms/step - loss: 0.5617 - val_loss: 0.8235\n"
     ]
    }
   ],
   "source": [
    "# เทรนโมเดล\n",
    "history = model.fit(\n",
    "    [train_data['userId'], train_data['movieId']], #input data \n",
    "    train_data['rating'], #target data\n",
    "    validation_data=([validation_data['userId'], validation_data['movieId']],  # input data \n",
    "                      validation_data['rating']),\n",
    "    epochs=10,\n",
    "    batch_size=32\n",
    ")"
   ]
  },
  {
   "cell_type": "code",
   "execution_count": null,
   "id": "4458e1f2-7a67-4de3-8e87-f32a85cd7c28",
   "metadata": {},
   "outputs": [],
   "source": []
  },
  {
   "cell_type": "markdown",
   "id": "94272c61-35e7-4e71-895a-790d59cbaf5b",
   "metadata": {},
   "source": [
    "## Evaluate"
   ]
  },
  {
   "cell_type": "code",
   "execution_count": 37,
   "id": "68c7adc9-3738-4715-8532-8ca0667198aa",
   "metadata": {},
   "outputs": [
    {
     "name": "stdout",
     "output_type": "stream",
     "text": [
      "\u001b[1m62501/62501\u001b[0m \u001b[32m━━━━━━━━━━━━━━━━━━━━\u001b[0m\u001b[37m\u001b[0m \u001b[1m127s\u001b[0m 2ms/step\n"
     ]
    }
   ],
   "source": [
    "predictions = model.predict([test_data['userId'], test_data['movieId']])\n"
   ]
  },
  {
   "cell_type": "code",
   "execution_count": 38,
   "id": "077a80fa-ef43-43ae-aa9a-2d67e9c2d20f",
   "metadata": {},
   "outputs": [
    {
     "data": {
      "text/plain": [
       "array([[3.654974 ],\n",
       "       [3.1204758],\n",
       "       [2.7045305],\n",
       "       ...,\n",
       "       [2.2929792],\n",
       "       [2.960934 ],\n",
       "       [2.732621 ]], dtype=float32)"
      ]
     },
     "execution_count": 38,
     "metadata": {},
     "output_type": "execute_result"
    }
   ],
   "source": [
    "predictions"
   ]
  },
  {
   "cell_type": "code",
   "execution_count": 39,
   "id": "b90fe655-77ca-4ae0-89e2-581cdfd3844a",
   "metadata": {},
   "outputs": [
    {
     "name": "stdout",
     "output_type": "stream",
     "text": [
      "2000027\n"
     ]
    }
   ],
   "source": [
    "num_rows = predictions.shape[0]\n",
    "print(num_rows)"
   ]
  },
  {
   "cell_type": "code",
   "execution_count": 40,
   "id": "5953924f-f701-4e7a-b942-075a373aa12c",
   "metadata": {},
   "outputs": [],
   "source": [
    "from sklearn.metrics import mean_squared_error, mean_absolute_error"
   ]
  },
  {
   "cell_type": "code",
   "execution_count": 41,
   "id": "4a30da75-29e3-4760-8101-c52b3491f0fa",
   "metadata": {},
   "outputs": [
    {
     "name": "stdout",
     "output_type": "stream",
     "text": [
      "Mean Squared Error (MSE): 0.82372142346303\n",
      "Mean Absolute Error (MAE): 0.7184916124254958\n"
     ]
    }
   ],
   "source": [
    "mse = mean_squared_error(test_data['rating'], predictions)\n",
    "mae = mean_absolute_error(test_data['rating'], predictions)\n",
    "\n",
    "print(f\"Mean Squared Error (MSE): {mse}\")\n",
    "print(f\"Mean Absolute Error (MAE): {mae}\")"
   ]
  },
  {
   "cell_type": "code",
   "execution_count": null,
   "id": "f3d3d938-51a7-4be0-bdc9-fba5d92ef810",
   "metadata": {},
   "outputs": [],
   "source": []
  },
  {
   "cell_type": "code",
   "execution_count": 42,
   "id": "b9f7b9c7-69ec-4cec-ae21-29c585082dd1",
   "metadata": {},
   "outputs": [],
   "source": [
    "from sklearn.metrics import precision_score, recall_score\n",
    "from sklearn.metrics import classification_report"
   ]
  },
  {
   "cell_type": "code",
   "execution_count": 43,
   "id": "4f67864a-a4dc-4d33-80ef-35fae75b768b",
   "metadata": {},
   "outputs": [],
   "source": [
    "#Thresholding: เพื่อแบ่งคะแนนออกเป็นสองกลุ่ม เช่น คะแนนสูงกว่าค่ากลาง(เช่น 3.5 ขึ้นไป) เป็น \"ชอบ\" และต่ำกว่าค่านั้นเป็น \"ไม่ชอบ\"  \n",
    "threshold = 3.5\n",
    "predicted_labels = (predictions >= threshold).astype(int)  \n",
    "true_labels = (test_data['rating'] >= threshold).astype(int)"
   ]
  },
  {
   "cell_type": "code",
   "execution_count": 44,
   "id": "46d6e64a-b320-4ca2-8b06-d2a4d476dcc3",
   "metadata": {},
   "outputs": [
    {
     "name": "stdout",
     "output_type": "stream",
     "text": [
      "              precision    recall  f1-score   support\n",
      "\n",
      "   Not Liked       0.54      0.86      0.67    780678\n",
      "       Liked       0.86      0.53      0.66   1219349\n",
      "\n",
      "    accuracy                           0.66   2000027\n",
      "   macro avg       0.70      0.70      0.66   2000027\n",
      "weighted avg       0.73      0.66      0.66   2000027\n",
      "\n"
     ]
    }
   ],
   "source": [
    "report = classification_report(true_labels, predicted_labels, target_names=[\"Not Liked\", \"Liked\"])\n",
    "print(report)"
   ]
  },
  {
   "cell_type": "code",
   "execution_count": null,
   "id": "0500cdca-fa9e-4e2a-becd-3edecde4c6ac",
   "metadata": {},
   "outputs": [],
   "source": []
  },
  {
   "cell_type": "markdown",
   "id": "f4d17f40-c1be-4093-b2e7-628386181bd1",
   "metadata": {},
   "source": [
    "## Test"
   ]
  },
  {
   "cell_type": "code",
   "execution_count": 45,
   "id": "4b0560c7-154f-4073-8b2e-2ffe29dadd6f",
   "metadata": {},
   "outputs": [
    {
     "data": {
      "text/html": [
       "<div>\n",
       "<style scoped>\n",
       "    .dataframe tbody tr th:only-of-type {\n",
       "        vertical-align: middle;\n",
       "    }\n",
       "\n",
       "    .dataframe tbody tr th {\n",
       "        vertical-align: top;\n",
       "    }\n",
       "\n",
       "    .dataframe thead th {\n",
       "        text-align: right;\n",
       "    }\n",
       "</style>\n",
       "<table border=\"1\" class=\"dataframe\">\n",
       "  <thead>\n",
       "    <tr style=\"text-align: right;\">\n",
       "      <th></th>\n",
       "      <th>userId</th>\n",
       "      <th>movieId</th>\n",
       "      <th>rating</th>\n",
       "      <th>title</th>\n",
       "      <th>genres</th>\n",
       "    </tr>\n",
       "  </thead>\n",
       "  <tbody>\n",
       "    <tr>\n",
       "      <th>301814</th>\n",
       "      <td>1</td>\n",
       "      <td>181</td>\n",
       "      <td>3.0</td>\n",
       "      <td>Mighty Morphin Power Rangers: The Movie (1995)</td>\n",
       "      <td>Action|Children</td>\n",
       "    </tr>\n",
       "    <tr>\n",
       "      <th>541054</th>\n",
       "      <td>1</td>\n",
       "      <td>198</td>\n",
       "      <td>2.0</td>\n",
       "      <td>Strange Days (1995)</td>\n",
       "      <td>Action|Crime|Drama|Mystery|Sci-Fi|Thriller</td>\n",
       "    </tr>\n",
       "    <tr>\n",
       "      <th>1003037</th>\n",
       "      <td>1</td>\n",
       "      <td>188</td>\n",
       "      <td>5.0</td>\n",
       "      <td>Prophecy, The (1995)</td>\n",
       "      <td>Fantasy|Horror|Mystery</td>\n",
       "    </tr>\n",
       "    <tr>\n",
       "      <th>1146292</th>\n",
       "      <td>1</td>\n",
       "      <td>208</td>\n",
       "      <td>4.0</td>\n",
       "      <td>Waterworld (1995)</td>\n",
       "      <td>Action|Adventure|Sci-Fi</td>\n",
       "    </tr>\n",
       "    <tr>\n",
       "      <th>1364375</th>\n",
       "      <td>1</td>\n",
       "      <td>176</td>\n",
       "      <td>5.0</td>\n",
       "      <td>Living in Oblivion (1995)</td>\n",
       "      <td>Comedy</td>\n",
       "    </tr>\n",
       "    <tr>\n",
       "      <th>1470348</th>\n",
       "      <td>1</td>\n",
       "      <td>192</td>\n",
       "      <td>4.0</td>\n",
       "      <td>Show, The (1995)</td>\n",
       "      <td>Documentary</td>\n",
       "    </tr>\n",
       "    <tr>\n",
       "      <th>1490801</th>\n",
       "      <td>1</td>\n",
       "      <td>195</td>\n",
       "      <td>2.0</td>\n",
       "      <td>Something to Talk About (1995)</td>\n",
       "      <td>Comedy|Drama|Romance</td>\n",
       "    </tr>\n",
       "    <tr>\n",
       "      <th>1715211</th>\n",
       "      <td>1</td>\n",
       "      <td>224</td>\n",
       "      <td>5.0</td>\n",
       "      <td>Don Juan DeMarco (1995)</td>\n",
       "      <td>Comedy|Drama|Romance</td>\n",
       "    </tr>\n",
       "    <tr>\n",
       "      <th>1732323</th>\n",
       "      <td>1</td>\n",
       "      <td>221</td>\n",
       "      <td>4.0</td>\n",
       "      <td>NaN</td>\n",
       "      <td>NaN</td>\n",
       "    </tr>\n",
       "  </tbody>\n",
       "</table>\n",
       "</div>"
      ],
      "text/plain": [
       "         userId  movieId  rating  \\\n",
       "301814        1      181     3.0   \n",
       "541054        1      198     2.0   \n",
       "1003037       1      188     5.0   \n",
       "1146292       1      208     4.0   \n",
       "1364375       1      176     5.0   \n",
       "1470348       1      192     4.0   \n",
       "1490801       1      195     2.0   \n",
       "1715211       1      224     5.0   \n",
       "1732323       1      221     4.0   \n",
       "\n",
       "                                                  title  \\\n",
       "301814   Mighty Morphin Power Rangers: The Movie (1995)   \n",
       "541054                              Strange Days (1995)   \n",
       "1003037                            Prophecy, The (1995)   \n",
       "1146292                               Waterworld (1995)   \n",
       "1364375                       Living in Oblivion (1995)   \n",
       "1470348                                Show, The (1995)   \n",
       "1490801                  Something to Talk About (1995)   \n",
       "1715211                         Don Juan DeMarco (1995)   \n",
       "1732323                                             NaN   \n",
       "\n",
       "                                             genres  \n",
       "301814                              Action|Children  \n",
       "541054   Action|Crime|Drama|Mystery|Sci-Fi|Thriller  \n",
       "1003037                      Fantasy|Horror|Mystery  \n",
       "1146292                     Action|Adventure|Sci-Fi  \n",
       "1364375                                      Comedy  \n",
       "1470348                                 Documentary  \n",
       "1490801                        Comedy|Drama|Romance  \n",
       "1715211                        Comedy|Drama|Romance  \n",
       "1732323                                         NaN  "
      ]
     },
     "execution_count": 45,
     "metadata": {},
     "output_type": "execute_result"
    }
   ],
   "source": [
    "movies = movies[['movieId', 'title', 'genres']]\n",
    "test_data_original = test_data[['userId', 'movieId', 'rating']]\n",
    "\n",
    "\n",
    "\n",
    "user_id = 1  test_with_movies = pd.merge(test_data_original, movies, on='movieId', how='left')\n",
    "user_test_data = test_with_movies[test_with_movies['userId'] == user_id]\n",
    "\n",
    "\n",
    "user_test_data"
   ]
  },
  {
   "cell_type": "code",
   "execution_count": 46,
   "id": "4e907978-8702-43a2-becc-1b6aeda270ee",
   "metadata": {},
   "outputs": [
    {
     "name": "stdout",
     "output_type": "stream",
     "text": [
      "\u001b[1m1/1\u001b[0m \u001b[32m━━━━━━━━━━━━━━━━━━━━\u001b[0m\u001b[37m\u001b[0m \u001b[1m0s\u001b[0m 141ms/step\n",
      "Predicted ratings for user 1:\n"
     ]
    },
    {
     "data": {
      "text/html": [
       "<div>\n",
       "<style scoped>\n",
       "    .dataframe tbody tr th:only-of-type {\n",
       "        vertical-align: middle;\n",
       "    }\n",
       "\n",
       "    .dataframe tbody tr th {\n",
       "        vertical-align: top;\n",
       "    }\n",
       "\n",
       "    .dataframe thead th {\n",
       "        text-align: right;\n",
       "    }\n",
       "</style>\n",
       "<table border=\"1\" class=\"dataframe\">\n",
       "  <thead>\n",
       "    <tr style=\"text-align: right;\">\n",
       "      <th></th>\n",
       "      <th>movieId</th>\n",
       "      <th>predicted_rating</th>\n",
       "    </tr>\n",
       "  </thead>\n",
       "  <tbody>\n",
       "    <tr>\n",
       "      <th>182</th>\n",
       "      <td>181</td>\n",
       "      <td>3.859525</td>\n",
       "    </tr>\n",
       "    <tr>\n",
       "      <th>206</th>\n",
       "      <td>198</td>\n",
       "      <td>2.292979</td>\n",
       "    </tr>\n",
       "    <tr>\n",
       "      <th>196</th>\n",
       "      <td>188</td>\n",
       "      <td>3.258206</td>\n",
       "    </tr>\n",
       "    <tr>\n",
       "      <th>217</th>\n",
       "      <td>208</td>\n",
       "      <td>2.674990</td>\n",
       "    </tr>\n",
       "    <tr>\n",
       "      <th>176</th>\n",
       "      <td>176</td>\n",
       "      <td>3.514862</td>\n",
       "    </tr>\n",
       "    <tr>\n",
       "      <th>200</th>\n",
       "      <td>192</td>\n",
       "      <td>2.999174</td>\n",
       "    </tr>\n",
       "    <tr>\n",
       "      <th>203</th>\n",
       "      <td>195</td>\n",
       "      <td>2.786792</td>\n",
       "    </tr>\n",
       "    <tr>\n",
       "      <th>233</th>\n",
       "      <td>224</td>\n",
       "      <td>3.548479</td>\n",
       "    </tr>\n",
       "    <tr>\n",
       "      <th>230</th>\n",
       "      <td>221</td>\n",
       "      <td>3.888395</td>\n",
       "    </tr>\n",
       "  </tbody>\n",
       "</table>\n",
       "</div>"
      ],
      "text/plain": [
       "     movieId  predicted_rating\n",
       "182      181          3.859525\n",
       "206      198          2.292979\n",
       "196      188          3.258206\n",
       "217      208          2.674990\n",
       "176      176          3.514862\n",
       "200      192          2.999174\n",
       "203      195          2.786792\n",
       "233      224          3.548479\n",
       "230      221          3.888395"
      ]
     },
     "execution_count": 46,
     "metadata": {},
     "output_type": "execute_result"
    }
   ],
   "source": [
    "\n",
    "# กรองข้อมูลของผู้ใช้นั้นจาก test_data\n",
    "user_test_data = test_data[test_data['userId'] == user_id]\n",
    "\n",
    "# นำ userId และ movieId ของผู้ใช้คนนี้มาเพื่อทำนายคะแนน\n",
    "user_predictions = model.predict([user_test_data['userId'], user_test_data['movieId']])\n",
    "\n",
    "# สร้าง DataFrame แสดงผลการทำนายพร้อมกับ movieId\n",
    "user_results = pd.DataFrame({\n",
    "    'movieId': user_test_data['movieId'],\n",
    "    'predicted_rating': user_predictions.flatten()  # แปลงเป็น array 1 มิติ # ratting\n",
    "})\n",
    "\n",
    "# แสดงผลลัพธ์\n",
    "print(f\"Predicted ratings for user {user_id}:\")\n",
    "user_results"
   ]
  },
  {
   "cell_type": "code",
   "execution_count": 47,
   "id": "e1aeec3d-d341-4fea-9800-0241c08f9c5e",
   "metadata": {},
   "outputs": [
    {
     "name": "stdout",
     "output_type": "stream",
     "text": [
      "\u001b[1m836/836\u001b[0m \u001b[32m━━━━━━━━━━━━━━━━━━━━\u001b[0m\u001b[37m\u001b[0m \u001b[1m2s\u001b[0m 2ms/step\n",
      "Recommended movies for user 1:\n"
     ]
    },
    {
     "data": {
      "text/html": [
       "<div>\n",
       "<style scoped>\n",
       "    .dataframe tbody tr th:only-of-type {\n",
       "        vertical-align: middle;\n",
       "    }\n",
       "\n",
       "    .dataframe tbody tr th {\n",
       "        vertical-align: top;\n",
       "    }\n",
       "\n",
       "    .dataframe thead th {\n",
       "        text-align: right;\n",
       "    }\n",
       "</style>\n",
       "<table border=\"1\" class=\"dataframe\">\n",
       "  <thead>\n",
       "    <tr style=\"text-align: right;\">\n",
       "      <th></th>\n",
       "      <th>movieId</th>\n",
       "      <th>predicted_rating</th>\n",
       "      <th>title</th>\n",
       "      <th>genres</th>\n",
       "    </tr>\n",
       "  </thead>\n",
       "  <tbody>\n",
       "    <tr>\n",
       "      <th>129</th>\n",
       "      <td>131</td>\n",
       "      <td>4.377719</td>\n",
       "      <td>Frankie Starlight (1995)</td>\n",
       "      <td>Drama|Romance</td>\n",
       "    </tr>\n",
       "    <tr>\n",
       "      <th>30</th>\n",
       "      <td>31</td>\n",
       "      <td>4.319242</td>\n",
       "      <td>Dangerous Minds (1995)</td>\n",
       "      <td>Drama</td>\n",
       "    </tr>\n",
       "    <tr>\n",
       "      <th>140</th>\n",
       "      <td>142</td>\n",
       "      <td>4.318406</td>\n",
       "      <td>Shadows (Cienie) (1988)</td>\n",
       "      <td>Drama</td>\n",
       "    </tr>\n",
       "    <tr>\n",
       "      <th>31</th>\n",
       "      <td>32</td>\n",
       "      <td>4.259735</td>\n",
       "      <td>Twelve Monkeys (a.k.a. 12 Monkeys) (1995)</td>\n",
       "      <td>Mystery|Sci-Fi|Thriller</td>\n",
       "    </tr>\n",
       "    <tr>\n",
       "      <th>182</th>\n",
       "      <td>186</td>\n",
       "      <td>4.245516</td>\n",
       "      <td>Nine Months (1995)</td>\n",
       "      <td>Comedy|Romance</td>\n",
       "    </tr>\n",
       "    <tr>\n",
       "      <th>666</th>\n",
       "      <td>684</td>\n",
       "      <td>4.241540</td>\n",
       "      <td>Windows (1980)</td>\n",
       "      <td>Drama</td>\n",
       "    </tr>\n",
       "    <tr>\n",
       "      <th>4760</th>\n",
       "      <td>4864</td>\n",
       "      <td>4.237747</td>\n",
       "      <td>Titanica (1992)</td>\n",
       "      <td>Documentary|IMAX</td>\n",
       "    </tr>\n",
       "    <tr>\n",
       "      <th>156</th>\n",
       "      <td>158</td>\n",
       "      <td>4.234628</td>\n",
       "      <td>Casper (1995)</td>\n",
       "      <td>Adventure|Children</td>\n",
       "    </tr>\n",
       "    <tr>\n",
       "      <th>3203</th>\n",
       "      <td>3298</td>\n",
       "      <td>4.234180</td>\n",
       "      <td>Boiler Room (2000)</td>\n",
       "      <td>Crime|Drama|Thriller</td>\n",
       "    </tr>\n",
       "    <tr>\n",
       "      <th>233</th>\n",
       "      <td>244</td>\n",
       "      <td>4.225949</td>\n",
       "      <td>Gumby: The Movie (1995)</td>\n",
       "      <td>Animation|Children</td>\n",
       "    </tr>\n",
       "  </tbody>\n",
       "</table>\n",
       "</div>"
      ],
      "text/plain": [
       "      movieId  predicted_rating                                      title  \\\n",
       "129       131          4.377719                   Frankie Starlight (1995)   \n",
       "30         31          4.319242                     Dangerous Minds (1995)   \n",
       "140       142          4.318406                    Shadows (Cienie) (1988)   \n",
       "31         32          4.259735  Twelve Monkeys (a.k.a. 12 Monkeys) (1995)   \n",
       "182       186          4.245516                         Nine Months (1995)   \n",
       "666       684          4.241540                             Windows (1980)   \n",
       "4760     4864          4.237747                            Titanica (1992)   \n",
       "156       158          4.234628                              Casper (1995)   \n",
       "3203     3298          4.234180                         Boiler Room (2000)   \n",
       "233       244          4.225949                    Gumby: The Movie (1995)   \n",
       "\n",
       "                       genres  \n",
       "129             Drama|Romance  \n",
       "30                      Drama  \n",
       "140                     Drama  \n",
       "31    Mystery|Sci-Fi|Thriller  \n",
       "182            Comedy|Romance  \n",
       "666                     Drama  \n",
       "4760         Documentary|IMAX  \n",
       "156        Adventure|Children  \n",
       "3203     Crime|Drama|Thriller  \n",
       "233        Animation|Children  "
      ]
     },
     "execution_count": 47,
     "metadata": {},
     "output_type": "execute_result"
    }
   ],
   "source": [
    "all_movie_ids = set(movie_to_index.values())  # หนังทั้งหมด\n",
    "watched_movie_ids = set(user_test_data['movieId'])  # หนังที่ผู้ใช้ดูแล้ว\n",
    "unwatched_movie_ids = list(all_movie_ids - watched_movie_ids)  # หนังที่ยังไม่ได้ดู\n",
    "\n",
    "# สร้าง DataFrame สำหรับหนังที่ยังไม่ได้ดู\n",
    "unwatched_data = pd.DataFrame({\n",
    "    'userId': [user_id] * len(unwatched_movie_ids), \n",
    "    'movieId': unwatched_movie_ids\n",
    "})\n",
    "\n",
    "# ทำนายคะแนนสำหรับหนังที่ผู้ใช้ยังไม่ได้ดู\n",
    "unwatched_predictions = model.predict([unwatched_data['userId'], unwatched_data['movieId']])\n",
    "\n",
    "# สร้าง DataFrame สำหรับผลลัพธ์การทำนาย\n",
    "unwatched_results = pd.DataFrame({\n",
    "    'movieId': unwatched_data['movieId'],\n",
    "    'predicted_rating': unwatched_predictions.flatten()  \n",
    "})\n",
    "\n",
    "unwatched_results = unwatched_results.merge(movies[['movieId', 'title', 'genres']], on='movieId')\n",
    "\n",
    "# เรียงลำดับหนังที่แนะนำจากคะแนนสูงสุดไปต่ำสุด\n",
    "unwatched_results = unwatched_results.sort_values(by='predicted_rating', ascending=False)\n",
    "\n",
    "\n",
    "print(f\"Recommended movies for user {user_id}:\")\n",
    "unwatched_results.head(10)"
   ]
  },
  {
   "cell_type": "code",
   "execution_count": null,
   "id": "9c519a37-7afd-4f13-b921-da65f83be80a",
   "metadata": {},
   "outputs": [],
   "source": []
  },
  {
   "cell_type": "code",
   "execution_count": null,
   "id": "1a6ca0c4-23ab-406d-a2a5-ff8a22c585db",
   "metadata": {},
   "outputs": [],
   "source": []
  },
  {
   "cell_type": "code",
   "execution_count": null,
   "id": "a5d81a1a-f901-457a-8706-8555d24eaecb",
   "metadata": {},
   "outputs": [],
   "source": []
  },
  {
   "cell_type": "code",
   "execution_count": null,
   "id": "3f0146f9-2f18-464b-9345-fc00516714d0",
   "metadata": {},
   "outputs": [],
   "source": []
  },
  {
   "cell_type": "code",
   "execution_count": null,
   "id": "afcc96cb-aca9-4e43-94da-b68f67cb02af",
   "metadata": {},
   "outputs": [],
   "source": []
  },
  {
   "cell_type": "code",
   "execution_count": null,
   "id": "69900046-b4f3-4213-9f2e-83c6ca03ea4c",
   "metadata": {},
   "outputs": [],
   "source": []
  },
  {
   "cell_type": "code",
   "execution_count": null,
   "id": "6649b45c-3ffb-421f-98e4-c6dfdf819a29",
   "metadata": {},
   "outputs": [],
   "source": []
  },
  {
   "cell_type": "code",
   "execution_count": null,
   "id": "0e354373-e8e0-44cd-bb94-59026389d492",
   "metadata": {},
   "outputs": [],
   "source": []
  },
  {
   "cell_type": "code",
   "execution_count": null,
   "id": "0ecd34b4-add8-421f-b34b-47226cb40a0f",
   "metadata": {},
   "outputs": [],
   "source": []
  },
  {
   "cell_type": "code",
   "execution_count": null,
   "id": "b74a465c-bf55-462a-bf42-a80791c6a39e",
   "metadata": {},
   "outputs": [],
   "source": []
  }
 ],
 "metadata": {
  "kernelspec": {
   "display_name": "Python 3 (ipykernel)",
   "language": "python",
   "name": "python3"
  },
  "language_info": {
   "codemirror_mode": {
    "name": "ipython",
    "version": 3
   },
   "file_extension": ".py",
   "mimetype": "text/x-python",
   "name": "python",
   "nbconvert_exporter": "python",
   "pygments_lexer": "ipython3",
   "version": "3.11.9"
  }
 },
 "nbformat": 4,
 "nbformat_minor": 5
}
